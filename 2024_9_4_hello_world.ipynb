{
  "nbformat": 4,
  "nbformat_minor": 0,
  "metadata": {
    "colab": {
      "provenance": []
    },
    "kernelspec": {
      "name": "python3",
      "display_name": "Python 3"
    },
    "language_info": {
      "name": "python"
    }
  },
  "cells": [
    {
      "cell_type": "code",
      "source": [
        "print(\"Hello World\")"
      ],
      "metadata": {
        "id": "9QHbbXfSRjPk"
      },
      "execution_count": null,
      "outputs": []
    },
    {
      "cell_type": "code",
      "source": [
        "print(\"Hello Python\")\n",
        "i = 1\n",
        "while i < 6:\n",
        "    print(i)\n",
        "    i += 1"
      ],
      "metadata": {
        "id": "kYJExwweRo0F"
      },
      "execution_count": null,
      "outputs": []
    },
    {
      "cell_type": "code",
      "source": [
        "  import pylab as py\n",
        "\n",
        "  x_deg = py.arange(-180, 180+1,)\n",
        "  x_red = py.deg2rad(x_deg)\n",
        "  y = py.sin(x_red)\n",
        "\n",
        "  py.plot(x_deg, y)\n",
        "\n",
        "  py.xlabel('x(deg)')\n",
        "  py.ylabel('sin(x)')\n",
        "  py.grid(True)\n"
      ],
      "metadata": {
        "id": "ayqxF8XJS7M-"
      },
      "execution_count": null,
      "outputs": []
    },
    {
      "cell_type": "code",
      "source": [],
      "metadata": {
        "id": "SLtYprbLeXDu"
      },
      "execution_count": null,
      "outputs": []
    }
  ]
}